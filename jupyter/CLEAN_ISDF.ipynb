{
 "cells": [
  {
   "cell_type": "markdown",
   "source": [
    "# ISDF with PYSCF and Octopus\n",
    "\n",
    "Octopus gives erroneous results for the serial ISDF implementation. As such, this notebook:\n",
    "* Reimplements ISDF using PYSCF as a base\n",
    "    * See prior notebooks [isdf_vectors.ipynb] and [qr_on_orbitals.ipynb]\n",
    "* Does QR decomposition instead of kmeans\n",
    "* Parses in Octopus wave functions, and see if one can get good results\n",
    "\n"
   ],
   "metadata": {
    "collapsed": false
   },
   "id": "4b4face609c151a7"
  },
  {
   "cell_type": "code",
   "execution_count": 3,
   "outputs": [
    {
     "name": "stdout",
     "output_type": "stream",
     "text": [
      "The autoreload extension is already loaded. To reload it, use:\n",
      "  %reload_ext autoreload\n"
     ]
    }
   ],
   "source": [
    "\"\"\"Build Benzene molecule with a minimal GTO basis, using PYSCF\n",
    "\"\"\"\n",
    "%load_ext autoreload\n",
    "%autoreload 2\n",
    "\n",
    "import numpy as np\n",
    "from pathlib import Path\n",
    "\n",
    "from isdf_prototypes.clean_isdf import benzene_from_pyscf, bohr_to_ang, \\\n",
    "    construct_interpolation_vectors_more_parts, \\\n",
    "    approximate_product_basis, \\\n",
    "    error_l2, mean_norm, \\\n",
    "    find_interpolation_points_factory\n",
    "from isdf_prototypes.math_ops import face_splitting_product\n"
   ],
   "metadata": {
    "collapsed": false,
    "ExecuteTime": {
     "end_time": "2024-11-24T18:10:37.358103Z",
     "start_time": "2024-11-24T18:10:37.320791Z"
    }
   },
   "id": "3c0b9a2007326f70"
  },
  {
   "cell_type": "markdown",
   "source": [],
   "metadata": {
    "collapsed": false
   },
   "id": "5fcbd4ea4da75996"
  },
  {
   "cell_type": "code",
   "execution_count": 16,
   "outputs": [
    {
     "name": "stdout",
     "output_type": "stream",
     "text": [
      "converged SCF energy = -229.930646528207\n",
      "dict_keys(['wfs', 'rho', 'cube_grid'])\n"
     ]
    }
   ],
   "source": [
    "\"\"\" Get wave functions, grid and density.\n",
    "* PYSCF \n",
    "* Read from file, for Octopus\n",
    "\"\"\"\n",
    "method = 'pyscf'\n",
    "\n",
    "if method == 'pyscf':\n",
    "    output_root = Path('../pyscf_nov2024_outputs')\n",
    "    data: dict = benzene_from_pyscf(output_root, [10, 10, 10])\n",
    "    print(data.keys())\n",
    "    # assert [data] == ['wfs', 'rho', 'cube_grid'], 'Expected output data from pyscf calculation'\n",
    "    \n",
    "    # Add real-space points, and volume element\n",
    "    data.update({'grid_points': data['cube_grid'].get_coords()})\n",
    "    data.update({'dV': data['cube_grid'].get_volume_element()})\n",
    "\n",
    "elif method == 'octopus':\n",
    "    output_root = Path('../oct_nov2024_outputs')\n",
    "    # Require wfs, rho, grid_points and dV - volume element\n",
    "    print('Add read in and reshaping')\n",
    "    \n",
    "else:\n",
    "    raise ValueError(f'Erroneous GS Method: {method}')\n"
   ],
   "metadata": {
    "collapsed": false,
    "ExecuteTime": {
     "end_time": "2024-11-24T18:25:23.902463Z",
     "start_time": "2024-11-24T18:25:16.150034Z"
    }
   },
   "id": "4b9c57f63206f06f"
  },
  {
   "cell_type": "code",
   "execution_count": 62,
   "outputs": [
    {
     "name": "stdout",
     "output_type": "stream",
     "text": [
      "Interpolation Method is kmeans\n"
     ]
    }
   ],
   "source": [
    "\"\"\" Compute interpolation indices\n",
    "\n",
    "QR Approach 1\n",
    "1. Sample from a Gaussian distribution to form a Gaussian matrix\n",
    "  - Apply QR decomposition to G, and take Q, such that the matrix is orthogonalised\n",
    "2. Contract phi and G over the state index. Take the face-splitting product of this to form Z_tilde\n",
    "\n",
    "QR Approach 3\n",
    "1. Compute interpolation indices using the QR Approach, BUT without orthogonalising the Gaussian\n",
    "sampling matrices\n",
    "\n",
    "KMeans Approach\n",
    "\"\"\"\n",
    "from isdf_prototypes.visualise import write_xyz\n",
    "\n",
    "n_int = 200\n",
    "interpolation_method = 'kmeans'\n",
    "\n",
    "n_grid_points = data['grid_points'].shape[0]\n",
    "n_states = data['wfs'].shape[1]\n",
    "assert data['wfs'].shape[0] == n_grid_points, 'Shape of wfs inconsistent with the grid'\n",
    "\n",
    "indices = find_interpolation_points_factory(interpolation_method)(n_int, **data)\n",
    "\n",
    "# Output grid points from indices to .xyz\n",
    "with open(file= output_root / f\"indices_{interpolation_method}.xyz\", mode='w') as fid:\n",
    "    string = write_xyz(['B']*n_int, data['grid_points'][indices]* bohr_to_ang)\n",
    "    fid.write(string)\n",
    "    "
   ],
   "metadata": {
    "collapsed": false,
    "ExecuteTime": {
     "end_time": "2024-11-24T18:47:47.586212Z",
     "start_time": "2024-11-24T18:47:47.544044Z"
    }
   },
   "id": "676551bcb83bbcdd"
  },
  {
   "cell_type": "code",
   "execution_count": 63,
   "outputs": [],
   "source": [
    "\"\"\" Compute ISDF Vectors\n",
    "\"\"\"\n",
    "isdf_vectors = construct_interpolation_vectors_more_parts(data['wfs'], indices)\n",
    "assert isdf_vectors.shape == (n_grid_points, n_int)\n",
    "    "
   ],
   "metadata": {
    "collapsed": false,
    "ExecuteTime": {
     "end_time": "2024-11-24T18:47:48.570653Z",
     "start_time": "2024-11-24T18:47:48.401550Z"
    }
   },
   "id": "708fe2d6824932f6"
  },
  {
   "cell_type": "code",
   "execution_count": 64,
   "outputs": [
    {
     "name": "stdout",
     "output_type": "stream",
     "text": [
      "200, 7.77e-10, 8.54e-08, 2.41e-08, 1.65e-05\n",
      "Outputting a subset of the product states for visualisation\n"
     ]
    }
   ],
   "source": [
    "\"\"\" Compute full product matrix and approximate product matrix\n",
    "\"\"\"\n",
    "# Construct product basis matrix\n",
    "z = face_splitting_product(data['wfs'])\n",
    "assert z.shape == (n_grid_points, n_states**2)\n",
    "\n",
    "# Approximate product basis amtric\n",
    "z_isdf = approximate_product_basis(data['wfs'], indices, isdf_vectors)\n",
    "assert z_isdf.shape == (n_grid_points, n_states**2)\n",
    "\n",
    "error = error_l2(z, z_isdf, data['dV'])\n",
    "rel_l2_error = error['mean'] / mean_norm(z, data['dV'])\n",
    "\n",
    "print(f\"{indices.size}, {error['min']:.2e}, {error['max']:.2e}, {error['mean']:.2e}, {rel_l2_error:.2e}\")\n",
    "\n",
    "if method == 'pyscf':\n",
    "    print('Outputting a subset of the product states for visualisation')\n",
    "    # Note, this is hard-coded in `benzene_from_pyscf`\n",
    "    nx, ny, nz  = 10, 10, 10\n",
    "    \n",
    "    print()\n",
    "    \n",
    "    # Total range from index 0, to n_states**2-1\n",
    "    \n",
    "    for ij in [0, 25, 80, n_states**2-1]:\n",
    "        # Exact product state\n",
    "        fname = output_root / f'z_{ij}.cube'\n",
    "        data['cube_grid'].write(field=z[:, ij].reshape(nx, ny, nz) , fname=fname.as_posix())\n",
    "        # Approximate product state\n",
    "        fname = output_root / f'zisdf_{ij}.cube'\n",
    "        data['cube_grid'].write(field=z_isdf[:, ij].reshape(nx, ny, nz) , fname=fname.as_posix())\n",
    "\n"
   ],
   "metadata": {
    "collapsed": false,
    "ExecuteTime": {
     "end_time": "2024-11-24T18:47:49.309406Z",
     "start_time": "2024-11-24T18:47:49.217003Z"
    }
   },
   "id": "b840bee9cc9ff03a"
  },
  {
   "cell_type": "markdown",
   "source": [
    "## Results\n",
    "\n",
    "### KMeans\n",
    "\n",
    "Repeat each run 3 times, and highlight the most favourable.\n",
    "Note, for 200 centroids $[CC^T]^{-1}$ fails `scipy.linalg.issymmetric(inv_cct, rtol=1.e-4)`. Have a think about why that is, and look at the condition number.\n",
    "TODO - Plot this convergence\n",
    "\n",
    "\n",
    "| N Interpolation Points | Min Error                   | Max Error                 | Mean Error               | Relative (L2) Error       | Notes                                                           |\n",
    "|------------------------|-----------------------------|---------------------------|--------------------------|---------------------------|-----------------------------------------------------------------|\n",
    "| 10                     | 1.38e-4  1.07e-4   1.27e-3  | 2.58e-3  2.57e-3  2.72e-3 | 1.09e-3  1.04e-3 1.07e-3 | 0.746    0.713    0.732   | Clearly the same functions, but not full visual agreement       |\n",
    "| 25                     | 7.58e-5  7.50e-5   6.75e-5  | 2.02e-3  2.12e-3  2.18e-3 | 6.82e-4  6.95e-4 7.07e-4 | 0.466    0.475    0.48    | Visual agreement improved, but clearly differ                   | \n",
    "| 50                     | 3.10e-5  4.61e-5   4.75e-5  | 1.14e-3  1.86e-3  1.29e-3 | 2.61e-4  3.31e-4 3.03e-4 | 0.178    0.23     0.21    | Visual agreement to the point where the functions look the same |\n",
    "| 100                    | 2.61e-6  1.31e-6   1.89e-6  | 3.15e-5  3.97e-5  2.38e-5 | 1.11e-5  7.81e-6 8.49e-6 | 7.60e-3  5.33e-3  5.80e-3 | Didn't check - assume fine                                      |\n",
    "| 200                    | 1.14e-9  1.85e-9   7.77e-10 | 8.76e-8  1.05e-7  8.54e-8 | 2.50e-8  2.81e-8 2.41e-8 | 1.71e-5  1.92e-5  1.65e-5 | Perfect visual agreement                                        |\n",
    "\n",
    "\n",
    "### Sub-sampling with Orthogonal G Matrix\n",
    "\n",
    "Repeat each run 3 times, and highlight the most favourable\n",
    "\n",
    "| N Interpolation Points | Min Error | Max Error | Mean Error | Relative (L2) Error |\n",
    "|------------------------|-----------|-----------|------------|---------------------|\n",
    "| 10                     |           |           |            |                     | \n",
    "| 25                     |           |           |            |                     | \n",
    "| 50                     |           |           |            |                     | \n",
    "| 100                    |           |           |            |                     | \n",
    "| 200                    |           |           |            |                     | \n",
    "\n",
    "The same as the above, but I do:\n",
    "$$\n",
    "\\tilde{Z}_{\\alpha \\beta}(\\mathbf{r}) =\n",
    "       \\left(\\sum_{i=1}^m \\varphi_i(\\mathbf{r}) G_{i \\alpha}^{\\varphi}\\right)\n",
    "       \\left(\\sum_{j=1}^n \\varphi_j(\\mathbf{r}) G_{j \\beta}^\\psi\\right)\n",
    "$$\n",
    "rather than:\n",
    "$$\n",
    "\\tilde{Z}_{\\alpha \\beta}(\\mathbf{r}) =\n",
    "       \\left(\\sum_{i=1}^m \\varphi_i(\\mathbf{r}) G_{i \\alpha}^{\\varphi}\\right)\n",
    "       \\left(\\sum_{i=1}^m \\varphi_i(\\mathbf{r}) G_{i \\alpha}^{\\varphi}\\right)\n",
    "$$\n",
    "\n",
    "i.e use two different sampling matrices on the same set of KS states.\n",
    "\n",
    "\n",
    "### Sub-sampling with Non-Orthogonal G Matrix\n",
    "\n",
    "Repeat each run 3 times, and highlight the most favourable\n",
    "\n",
    "| N Interpolation Points | Min Error | Max Error | Mean Error | Relative (L2) Error |\n",
    "|------------------------|-----------|-----------|------------|---------------------|\n",
    "| 10                     |           |           |            |                     | \n",
    "| 25                     |           |           |            |                     | \n",
    "| 50                     |           |           |            |                     | \n",
    "| 100                    |           |           |            |                     | \n",
    "| 200                    |           |           |            |                     | \n",
    "\n"
   ],
   "metadata": {
    "collapsed": false
   },
   "id": "25f348ab662c03cc"
  },
  {
   "cell_type": "code",
   "execution_count": null,
   "outputs": [],
   "source": [],
   "metadata": {
    "collapsed": false
   },
   "id": "e41038a9c19ca5dc"
  }
 ],
 "metadata": {
  "kernelspec": {
   "display_name": "Python 3",
   "language": "python",
   "name": "python3"
  },
  "language_info": {
   "codemirror_mode": {
    "name": "ipython",
    "version": 2
   },
   "file_extension": ".py",
   "mimetype": "text/x-python",
   "name": "python",
   "nbconvert_exporter": "python",
   "pygments_lexer": "ipython2",
   "version": "2.7.6"
  }
 },
 "nbformat": 4,
 "nbformat_minor": 5
}
