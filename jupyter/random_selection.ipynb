{
 "cells": [
  {
   "cell_type": "markdown",
   "source": [
    "# Random Selection\n",
    "\n",
    "When selecting indices for associated with an array of grid points, one wants to use a weight function to information this choice.\n",
    "If one is sampling uniformly, it's possible that a centroid will be chosen in a region of space where the sum of the weights\n",
    "associated with the cluster's grid points is zero. For example, in cells with alot of vacuum. \n",
    "\n",
    "This cab be achieved straightforwardly with numpy:\n",
    "\n",
    "```python\n",
    "random.choice(a, size=None, replace=True, p=None)\n",
    "```\n",
    "\n",
    "where one passes a weight function or distribution to as the argument to `p`. However, when using fortran, this functionality\n",
    "is not available. This NB prototypes a basic implementation that samples random numbers according to a user-supplied function\n",
    "using binary search\n",
    "\n"
   ],
   "metadata": {
    "collapsed": false
   },
   "id": "e3324105b14b7553"
  },
  {
   "cell_type": "code",
   "execution_count": 3,
   "outputs": [
    {
     "name": "stdout",
     "output_type": "stream",
     "text": [
      "converged SCF energy = -229.930646528208\n"
     ]
    }
   ],
   "source": [
    "\"\"\"pyscf setup to generate the grid and density\n",
    "\"\"\"\n",
    "%load_ext autoreload\n",
    "%autoreload 2\n",
    "\n",
    "import numpy as np\n",
    "\n",
    "from pathlib import Path\n",
    "from pyscf.tools import cubegen\n",
    "from pyscf import gto, dft\n",
    "from rdkit import Chem\n",
    "\n",
    "bohr_to_ang =  0.529177249\n",
    "output_root = Path('../outputs/isdf_product_expansion')\n",
    "\n",
    "benzene_coordinates = \"\"\"\n",
    " C         -0.65914       -1.21034        3.98683\n",
    " C          0.73798       -1.21034        4.02059\n",
    " C         -1.35771       -0.00006        3.96990\n",
    " C          1.43653       -0.00004        4.03741\n",
    " C         -0.65915        1.21024        3.98685\n",
    " C          0.73797        1.21024        4.02061\n",
    " H         -1.20447       -2.15520        3.97369\n",
    " H          1.28332       -2.15517        4.03382\n",
    " H         -2.44839       -0.00006        3.94342\n",
    " H          2.52722       -0.00004        4.06369\n",
    " H         -1.20448        2.15509        3.97373\n",
    " H          1.28330        2.15508        4.03386\n",
    "\"\"\"\n",
    "\n",
    "# PYSCF Molecule\n",
    "mol = gto.Mole()\n",
    "mol.atom = benzene_coordinates\n",
    "mol.basis = 'def2-SVP'\n",
    "mol.build()\n",
    "\n",
    "# RDKIT molecule from SMILES data\n",
    "rdkit_mol = Chem.MolFromSmiles(\"c1ccccc1\")\n",
    "rdkit_mol = Chem.AddHs(rdkit_mol)\n",
    "# mol.atom_coords(unit='angstom'), symbols=[mol.atom_symbol(i) for i in range(12)]\n",
    "\n",
    "# Solve SCF for restricted KS-LDA\n",
    "mf = dft.RKS(mol)\n",
    "mf.kernel()\n",
    "# Occupied states for benzene, with this basis is 22\n",
    "n_occ = 22\n",
    "\n",
    "# Grid/cube settings\n",
    "nx, ny, nz = 10, 10, 10\n",
    "n_total = np.prod([nx, ny, nz])\n",
    "\n",
    "# Generate the real-space grid\n",
    "cube_grid = cubegen.Cube(mol, nx, ny, nz)\n",
    "grid_points = cube_grid.get_coords()\n",
    "assert grid_points.shape == (n_total, 3)\n",
    "\n",
    "# Density\n",
    "dm = mf.make_rdm1()\n",
    "cube_file = output_root / f'density.cube'\n",
    "rho = cubegen.density(mol, cube_file.as_posix(), dm, nx=nx, ny=ny, nz=nz)\n",
    "rho = rho.reshape(-1)"
   ],
   "metadata": {
    "collapsed": false,
    "ExecuteTime": {
     "end_time": "2024-05-17T18:48:52.719769Z",
     "start_time": "2024-05-17T18:48:43.787217Z"
    }
   },
   "id": "1e5fc8b6c7f3665e"
  },
  {
   "cell_type": "code",
   "execution_count": 27,
   "outputs": [],
   "source": [
    "\"\"\" Random number generation, sampling from a user-supplied distribution\n",
    "\"\"\"\n",
    "import numpy as np\n",
    "\n",
    "\n",
    "\n",
    "np.random.Generator.choice\n",
    "def construct_cumulative_weights(weights) -> np.ndarray:\n",
    "    \"\"\"Construct cumulative weight function\n",
    "    \n",
    "    Implemented with loops for easy transcribing to fortran\n",
    "    else one could use existing np/scipy functions\n",
    "    \"\"\"\n",
    "    cumulative_weights = np.empty_like(weights)\n",
    "    cumulative_weights[0] = weights[0]\n",
    "    i = 0\n",
    "    for weight in weights[1:]:\n",
    "        i += 1\n",
    "        cumulative_weights[i] = cumulative_weights[i-1] + weight\n",
    "    return cumulative_weights\n",
    "    \n",
    "\n",
    "def weighted_random_choice(n, weights):\n",
    "    \"\"\"\n",
    "    Chooses n random elements from the list 'elements' with probabilities \n",
    "    proportional to the values in the list 'weights'.\n",
    "\n",
    "    Note that this implementation does not guarantee that every index returned is unique.\n",
    "    One may get the same index (or indices) appearing more than once.\n",
    "    One would need to rewrite the implementation to add this feature, and the implementation\n",
    "    in fortran would look quite different - so not worth doing.\n",
    "    \"\"\"\n",
    "    n_weights = len(weights)\n",
    "    if n > n_weights:\n",
    "        raise ValueError(\"More sampled requested than there are weights\")\n",
    "    \n",
    "    total_weight = np.sum(weights)\n",
    "    cumulative_weights = construct_cumulative_weights(weights)\n",
    "\n",
    "    indices = np.empty(shape=n, dtype=np.int32)\n",
    "    for i in range(n):\n",
    "        random_value = random.random() * total_weight\n",
    "\n",
    "        # Binary search to find the interval\n",
    "        low, high = 0, n_weights - 1\n",
    "        while low < high:\n",
    "            mid = (low + high) // 2\n",
    "            if random_value < cumulative_weights[mid]:\n",
    "                high = mid\n",
    "            else:\n",
    "                low = mid + 1\n",
    "        \n",
    "        indices[i] = low\n",
    "        \n",
    "    return indices\n",
    "\n"
   ],
   "metadata": {
    "collapsed": false,
    "ExecuteTime": {
     "end_time": "2024-05-17T19:59:53.277287Z",
     "start_time": "2024-05-17T19:59:53.251842Z"
    }
   },
   "id": "3f5215dd5178c4c0"
  },
  {
   "cell_type": "code",
   "execution_count": 31,
   "outputs": [
    {
     "name": "stdout",
     "output_type": "stream",
     "text": [
      "The chosen numbers are: [61 87 83 81 97 96 83 56 86 67 80 43 64 85 88 65 60 72 92 84]\n"
     ]
    }
   ],
   "source": [
    "\"\"\" \n",
    "Visually check that the initial guess centroids are already located in regions of high density\n",
    "\"\"\"\n",
    "# Example usage: integers 1 to 100 with custom weights\n",
    "elements = list(range(1, 101))   # Create a list of integers from 1 to 100\n",
    "weights = [i**2 for i in elements]  # Example weights (squares of the integers)\n",
    "\n",
    "chosen_numbers = weighted_random_choice(20, weights)  # Choose 5 unique numbers\n",
    "print(f\"The chosen numbers are: {chosen_numbers}\")\n",
    "\n",
    "# NOTE. I didn't bother testing this because \n",
    "# a) the fortran code will look quite different\n",
    "# b) Can already be achieved in python with numpy\n",
    "\n",
    "# Output full grid to .xyz with dummy species\n",
    "# grid_xyz = write_xyz(['Sr']*n_total, grid_points * bohr_to_ang)\n",
    "# with open(output_root / 'grid.xyz', \"w\") as fid:\n",
    "#     fid.write(grid_xyz)\n",
    "\n",
    "# Print density to cube\n",
    "\n",
    "# Output INITIAL centroids to .xyz with dummy species\n",
    "# grid_xyz = write_xyz(['Sr']*n_total, grid_points * bohr_to_ang)\n",
    "# with open(output_root / 'grid.xyz', \"w\") as fid:\n",
    "#     fid.write(grid_xyz)\n",
    "\n"
   ],
   "metadata": {
    "collapsed": false,
    "ExecuteTime": {
     "end_time": "2024-05-17T20:00:14.738725Z",
     "start_time": "2024-05-17T20:00:14.723958Z"
    }
   },
   "id": "a5de59bb3a062f2"
  },
  {
   "cell_type": "code",
   "execution_count": null,
   "outputs": [],
   "source": [],
   "metadata": {
    "collapsed": false
   },
   "id": "48a9fc502ff9f55"
  }
 ],
 "metadata": {
  "kernelspec": {
   "display_name": "Python 3",
   "language": "python",
   "name": "python3"
  },
  "language_info": {
   "codemirror_mode": {
    "name": "ipython",
    "version": 2
   },
   "file_extension": ".py",
   "mimetype": "text/x-python",
   "name": "python",
   "nbconvert_exporter": "python",
   "pygments_lexer": "ipython2",
   "version": "2.7.6"
  }
 },
 "nbformat": 4,
 "nbformat_minor": 5
}
