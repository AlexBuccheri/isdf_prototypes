{
 "cells": [
  {
   "cell_type": "markdown",
   "source": [
    "\n",
    "# Scikit Learn\n",
    "\n",
    "Apply Scikit learn's kmeans algorithm on a grid and density from Octopus, as a means of testing choice of centroids/the fortran centroid algorithm"
   ],
   "metadata": {
    "collapsed": false
   },
   "id": "10214deb4771c3b2"
  },
  {
   "cell_type": "code",
   "execution_count": 2,
   "outputs": [],
   "source": [
    "import numpy as np\n",
    "from scipy.spatial.distance import cdist\n",
    "from sklearn.cluster import KMeans\n",
    "\n",
    "# number of grid points\n",
    "n_points = 97013\n",
    "\n",
    "# Import density\n",
    "rho = np.loadtxt(\"../fortran_data/rho.dat\")\n",
    "assert rho.size == n_points\n",
    "\n",
    "# Import grid\n",
    "grid = np.loadtxt(\"../fortran_data/grid.dat\")\n",
    "assert grid.shape == (n_points, 3)\n",
    "\n",
    "for n_clusters in [5, 10, 15, 20, 30, 50, 100, 150, 200]:\n",
    "    k_means = KMeans(n_clusters=n_clusters, init='k-means++', n_init='auto', max_iter=300, tol=0.0001, verbose=0, algorithm='lloyd')\n",
    "    k_means.fit(grid, sample_weight = rho)\n",
    "    clusters = k_means.cluster_centers_\n",
    "    assert clusters.shape == (n_clusters, 3)\n",
    "    \n",
    "    # Discretise the continuous cluster points to the grid\n",
    "    distances = cdist(clusters, grid)\n",
    "    indices = np.argmin(distances, axis=1)\n",
    "    discrete_clusters = grid[indices]\n",
    "    \n",
    "    # Output to file\n",
    "    output = np.column_stack([indices, discrete_clusters])\n",
    "    np.savetxt(f'sklearn_centroids_{n_clusters}.txt', output, fmt='%d %20.16f %20.16f %20.16f')\n",
    "\n",
    "\n",
    "\n"
   ],
   "metadata": {
    "collapsed": false,
    "ExecuteTime": {
     "end_time": "2024-11-22T15:59:34.140496Z",
     "start_time": "2024-11-22T15:59:30.918874Z"
    }
   },
   "id": "ff23555178dda279"
  },
  {
   "cell_type": "code",
   "execution_count": 28,
   "outputs": [],
   "source": [
    "# Alternative implementation\n",
    "# indices2 = np.empty(shape=n_points, dtype=int)\n",
    "# for i in range(n_clusters):\n",
    "#     # Calculate Euclidean distance to all grid points\n",
    "#     distances = np.sqrt(np.sum((grid - clusters[i, :]) ** 2, axis=1))\n",
    "#     # Find index of minimum distance\n",
    "#     indices2[i] = np.argmin(distances)\n",
    "\n",
    "\n"
   ],
   "metadata": {
    "collapsed": false,
    "ExecuteTime": {
     "end_time": "2024-11-22T12:41:37.445126Z",
     "start_time": "2024-11-22T12:41:37.440135Z"
    }
   },
   "id": "4861b4a3fd3ecfd5"
  },
  {
   "cell_type": "code",
   "execution_count": null,
   "outputs": [],
   "source": [],
   "metadata": {
    "collapsed": false
   },
   "id": "c817dc3ac3d214d2"
  }
 ],
 "metadata": {
  "kernelspec": {
   "display_name": "Python 3",
   "language": "python",
   "name": "python3"
  },
  "language_info": {
   "codemirror_mode": {
    "name": "ipython",
    "version": 2
   },
   "file_extension": ".py",
   "mimetype": "text/x-python",
   "name": "python",
   "nbconvert_exporter": "python",
   "pygments_lexer": "ipython2",
   "version": "2.7.6"
  }
 },
 "nbformat": 4,
 "nbformat_minor": 5
}
