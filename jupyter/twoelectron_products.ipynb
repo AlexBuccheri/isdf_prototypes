{
 "cells": [
  {
   "cell_type": "markdown",
   "source": [
    "# Two Electron Products\n",
    "\n",
    "1. Create products of the benzene occupied states on the real-space grid and output to cube file\n",
    "\n",
    "2. Perform the expansions using interpolation points and functions:\n",
    "* Visually compare\n",
    "* Numerically compare: \n",
    "    * Avg, Min and Max Diff of the functions\n",
    "    * Integral of the functions over the volume"
   ],
   "metadata": {
    "collapsed": false
   },
   "id": "ea52a411d1f4f951"
  },
  {
   "cell_type": "markdown",
   "source": [
    "## Definitions \n",
    "\n",
    "|----------|-------------------------------------------------------------------------------------|\n",
    "| Quantity | Definition                                                                          |\n",
    "|----------|-------------------------------------------------------------------------------------|\n",
    "| $N_e$    | Number of electrons. Should be equivalent to the number of occupied basis functions |\n",
    "| $N_g$    | Number of real-space grid points                                                    |\n",
    "| $N_\\mu$  | Number of interpolation points/vectors                                              |\n",
    "\n",
    "|----------|-------------------------------------------------------------------------------------|\n",
    "| Matrix   | Dimensions                                                                          |\n",
    "|----------|-------------------------------------------------------------------------------------|\n",
    "| $\\phi(\\mathbf{r})$      |  Kohn-Sham orbitals                                                  |\n",
    "| $\\psi(\\mathbf{r})$      |  Kohn-Sham orbitals obtained if one does an outer SCF loop.i.e. self-consistent w.r.t. $V_{EX}$  |\n",
    "| $\\zeta_\\mu(\\mathbf{r})$ |  Auxiliary basis functions                                           |\n",
    "| $Z$                     |  Product state matrix of shape $(N_g, N_e^2)$, where an element (k, ij) corresponds to $\\phi_i(\\mathbf{r}_k) \\psi_j(\\mathbf{r}_k)$ |\n",
    "| $C$                     |  Expansion coefficient matrix of shape $(N_g, N_e^2)$                |\n",
    "| $\\Theta$                |  Matrix of auxiliary basis functions, with shape $(N_g, N_\\mu)$      |\n",
    "\n"
   ],
   "metadata": {
    "collapsed": false
   },
   "id": "7f135305228518b9"
  },
  {
   "cell_type": "markdown",
   "source": [
    "## Decomposing the Contractions $(ZC^T)$ and $(CC^T)^{-1}$\n",
    "\n",
    "These notes follow the paper:\n",
    "> Interpolative Separable Density Fitting Decomposition for Accelerating Hybrid Density Functional Calculations with Applications to Defects in Silicon\n",
    "[J. Chem. Theory Comput. 2017, 13, 5420-5431](https://pubs.acs.org/doi/10.1021/acs.jctc.7b00807)\n",
    "\n",
    "### Optimal Construction of $(ZC^T)$\n",
    "\n",
    "The contraction $(ZC^T)$ has shape $(N_g, N_e^2)(N_e^2, N_\\mu) \\rightarrow (N_g, N_\\mu)$. This can be defined in terms of quasi density-matrices:\n",
    "\n",
    "\\begin{align}\n",
    "  (ZC^T)_{k,\\mu} = P^\\Phi (\\mathbf{r}_k, \\mathbf{r}_\\mu) P^\\Psi (\\mathbf{r}_k, \\mathbf{r}_\\mu),\n",
    "\\end{align}\n",
    "\n",
    "where $k$ is an index over the real-space grid and $\\mu$ is an index over the interpolation points. The whole contraction is defined in terms of the Hadamard (element-wise) product between the two quasi density matrices:\n",
    "\n",
    "\\begin{align}\n",
    "  (ZC^T)= P^\\Phi \\odot P^\\Psi.\n",
    "\\end{align}\n",
    "\n",
    "$(ZC^T)$, $P^\\Phi (\\mathbf{r}_k, \\mathbf{r}_\\mu)$ and $P^\\Psi (\\mathbf{r}_k, \\mathbf{r}_\\mu)$ cleatly all have the same shape, $(N_g, N_\\mu)$. The quasi density-matrices are themselves given as:\n",
    "\n",
    "\\begin{align}\n",
    "  P^\\Phi(\\mathbf{r}_k, \\mathbf{r}_\\mu) = \\sum^m_{i=1} \\phi(\\mathbf{r}_k) \\phi(\\mathbf{r}_\\mu) \\\\\n",
    "  P^\\Psi(\\mathbf{r}_k, \\mathbf{r}_\\mu) = \\sum^n_{i=1} \\psi(\\mathbf{r}_k) \\psi(\\mathbf{r}_\\mu)\n",
    "\\end{align}\n",
    "\n",
    "where $m$ typically equals $N_e$ (the number of occupied states), and $n \\ge N_e$ depending on whether $\\{\\phi\\} = \\{\\psi\\}$. The two sets of KS orbitals will only differ if an outer SCF loop is used to generate $\\{\\psi\\}$, in which case they may contain some unoccupied states.\n",
    "\n",
    "If one writes the defintion of $P^\\Phi(\\mathbf{r}_k, \\mathbf{r}_\\mu)$ more compactly:\n",
    "\n",
    "\\begin{align}\n",
    "  P^\\Phi_{k,\\mu} = \\sum^m_{i=1} \\phi_{k, i} \\phi_{\\mu i}\n",
    "\\end{align}\n",
    "\n",
    "one can see that:\n",
    "\n",
    "\\begin{align}\n",
    "  P^\\Phi = \\Phi (\\Phi')^T\n",
    "\\end{align}\n",
    "\n",
    "where $\\Phi'$ is the KS orbital matrix, with the rows restricted to interpolation points. In the case that $\\{\\phi\\} = \\{\\psi\\}$, this simplifies to:\n",
    "\n",
    "\\begin{align}\n",
    "  (ZC^T)&= \\left[P^\\Phi\\right]^2 \\\\\n",
    "        &= \\left[\\Phi (\\Phi')^T \\right]^2\n",
    "\\end{align}\n",
    "\n",
    "where the $^2$ implies element-wise squaring.\n",
    "\n",
    "**TODO**: Add the number of flops per operation\n",
    "\n",
    "\n",
    "### Optimal Construction of $(CC^T)^{-1}$\n",
    "\n",
    "The coefficient matrix $C$ has shape $(N_\\mu, N_e^2)$, so $(CC^T)$ will have shape $(N_\\mu, N_\\mu$, as will its inverse. As such, the decomposable product is defined as:\n",
    "\n",
    "\\begin{align}\n",
    "  (CC^T)_{\\nu,\\mu} = P^\\Phi (\\mathbf{r}_\\nu, \\mathbf{r}_\\mu) P^\\Psi (\\mathbf{r}_\\nu, \\mathbf{r}_\\mu),\n",
    "\\end{align}\n",
    "\n",
    "where both $\\nu$ and $\\mu$ run over the interpolation points only. \n",
    "\n",
    "### Optimal Construction of $\\Theta$\n",
    "\n",
    "To compute $\\Theta = (ZC^T)(CC^T)^{-1}$, I *assume* one therefore needs to compute the contraction $(CC^T)$, compute its inverse (perhaps via SVD),\n",
    "then perform the final matrix multiplication (contaction over $N_\\mu$):\n",
    "\n",
    "\\begin{align}\n",
    "  \\Theta = \\left[ (ZC^T) \\right] \\left[(CC^T)^{-1}\\right].\n",
    "\\end{align}\n",
    "\n",
    "$\\Theta$ will have shape $(N_g, N_\\mu) (N_\\mu, N_\\mu) \\rightarrow (N_g, N_\\mu)$, such that each column corresponds to an interpolation vector.\n",
    "\n",
    "### Construction of Approximate Pair Product States\n",
    "\n",
    "Finally, one can test:\n",
    "\n",
    "\\begin{align}\n",
    "  \\phi_i(\\mathbf{r}) \\psi_j(\\mathbf{r}) \\approx \\sum_\\mu^{N_\\mu} \\zeta_\\mu(\\mathbf{r})  \\phi_i(\\mathbf{r}_\\mu) \\psi_j(\\mathbf{r}_\\mu) \n",
    "\\end{align}\n",
    "\n",
    "To construct the product state matrix $A$, one uses the face-splitting product on arrays of $\\phi$ and $\\psi$. This is implemented in [isdf_vectors.py](../src/isdf_prototypes/isdf_vectors.py). One then performs the matrix-matrix product $\\zeta A$, where $A$ has shape $(N_\\mu, N_e^2)$, $\\zeta$ has shape $(N_g, N_\\mu)$, and the final contraction has shape $(N_g, N_e^2)$\n"
   ],
   "metadata": {
    "collapsed": false
   },
   "id": "1b850134ec814b76"
  },
  {
   "cell_type": "markdown",
   "source": [],
   "metadata": {
    "collapsed": false
   },
   "id": "3404e03dda1bfdc3"
  },
  {
   "cell_type": "code",
   "execution_count": null,
   "outputs": [],
   "source": [],
   "metadata": {
    "collapsed": false
   },
   "id": "517a901dd02ec2fd"
  }
 ],
 "metadata": {
  "kernelspec": {
   "display_name": "Python 3",
   "language": "python",
   "name": "python3"
  },
  "language_info": {
   "codemirror_mode": {
    "name": "ipython",
    "version": 2
   },
   "file_extension": ".py",
   "mimetype": "text/x-python",
   "name": "python",
   "nbconvert_exporter": "python",
   "pygments_lexer": "ipython2",
   "version": "2.7.6"
  }
 },
 "nbformat": 4,
 "nbformat_minor": 5
}
