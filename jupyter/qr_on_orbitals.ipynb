{
 "cells": [
  {
   "cell_type": "markdown",
   "source": [
    "# Find interpolation points via subsampling product basis, and performing QR decomposition"
   ],
   "metadata": {
    "collapsed": false
   },
   "id": "cf4fff014afcd0cc"
  },
  {
   "cell_type": "code",
   "execution_count": 2,
   "outputs": [
    {
     "name": "stdout",
     "output_type": "stream",
     "text": [
      "The autoreload extension is already loaded. To reload it, use:\n",
      "  %reload_ext autoreload\n",
      "converged SCF energy = -229.930646528208\n"
     ]
    }
   ],
   "source": [
    "\"\"\"Build Benzene molecule with a minimal GTO basis, usign PYSCF\n",
    "\"\"\"\n",
    "%load_ext autoreload\n",
    "%autoreload 2\n",
    "\n",
    "from pyscf import gto, dft\n",
    "from rdkit import Chem\n",
    "\n",
    "\n",
    "benzene_coordinates = \"\"\"\n",
    " C         -0.65914       -1.21034        3.98683\n",
    " C          0.73798       -1.21034        4.02059\n",
    " C         -1.35771       -0.00006        3.96990\n",
    " C          1.43653       -0.00004        4.03741\n",
    " C         -0.65915        1.21024        3.98685\n",
    " C          0.73797        1.21024        4.02061\n",
    " H         -1.20447       -2.15520        3.97369\n",
    " H          1.28332       -2.15517        4.03382\n",
    " H         -2.44839       -0.00006        3.94342\n",
    " H          2.52722       -0.00004        4.06369\n",
    " H         -1.20448        2.15509        3.97373\n",
    " H          1.28330        2.15508        4.03386\n",
    "\"\"\"\n",
    "\n",
    "# Generate ball and stick data of atomic positions from SMILES\n",
    "rdkit_mol = Chem.MolFromSmiles(\"c1ccccc1\")\n",
    "rdkit_mol = Chem.AddHs(rdkit_mol)\n",
    "\n",
    "# PYSCF Molecule\n",
    "mol = gto.Mole()\n",
    "mol.atom = benzene_coordinates\n",
    "mol.basis = 'def2-SVP'\n",
    "mol.build()\n",
    "\n",
    "# Solve SCF for restricted KS-LDA\n",
    "mf = dft.RKS(mol)\n",
    "mf.kernel()\n",
    "# Occupied states for benzene, with this basis is 22\n",
    "n_occ = 22"
   ],
   "metadata": {
    "collapsed": false,
    "ExecuteTime": {
     "end_time": "2024-04-09T12:13:04.449425Z",
     "start_time": "2024-04-09T12:12:57.262574Z"
    }
   },
   "id": "39708e236631a6ed"
  },
  {
   "cell_type": "code",
   "execution_count": 4,
   "outputs": [],
   "source": [
    "\"\"\"Define real-space grid\n",
    "\"\"\"\n",
    "from pathlib import Path\n",
    "\n",
    "import numpy as np\n",
    "from pyscf.tools import cubegen\n",
    "\n",
    "# Root for outputs\n",
    "output_root = Path('../outputs/points_via_qr')\n",
    "\n",
    "# Grid/cube settings\n",
    "nx, ny, nz = 10, 10, 10\n",
    "n_total = np.prod([nx, ny, nz])\n",
    "\n",
    "# Generate the real-space grid\n",
    "cube_grid = cubegen.Cube(mol, nx, ny, nz)\n",
    "grid_points = cube_grid.get_coords()\n",
    "assert grid_points.shape == (n_total, 3)"
   ],
   "metadata": {
    "collapsed": false,
    "ExecuteTime": {
     "end_time": "2024-04-09T12:20:37.059896Z",
     "start_time": "2024-04-09T12:20:37.033886Z"
    }
   },
   "id": "9dce5c10f066aba4"
  },
  {
   "cell_type": "code",
   "execution_count": 5,
   "outputs": [],
   "source": [
    "\"\"\"Build the electron density\n",
    "\"\"\"\n",
    "from pathlib import Path\n",
    "\n",
    "cube_file = output_root / 'benzene_density.cube'\n",
    "\n",
    "# 1-electron Density matrix\n",
    "dm = mf.make_rdm1()\n",
    "rho = cubegen.density(mol, cube_file.as_posix(), dm, nx=nx, ny=ny, nz=nz)\n",
    "rho = rho.reshape(-1)\n",
    "assert rho.shape == (n_total,)"
   ],
   "metadata": {
    "collapsed": false,
    "ExecuteTime": {
     "end_time": "2024-04-09T12:20:39.701564Z",
     "start_time": "2024-04-09T12:20:39.657998Z"
    }
   },
   "id": "cdd1aff3ad402b08"
  },
  {
   "cell_type": "code",
   "execution_count": 6,
   "outputs": [],
   "source": [
    "\"\"\"KS molecular orbitals\n",
    "\"\"\"\n",
    "# Generate MOs on real-space grid\n",
    "wfs = np.empty(shape=(n_total, n_occ))\n",
    "for i in range(n_occ):\n",
    "    cube_file = output_root / f'benzene_mo{i}.cube'\n",
    "    # pyscf expects a string for fname\n",
    "    molecular_orbital = cubegen.orbital(mol, cube_file.as_posix(), mf.mo_coeff[:, i], nx=nx, ny=ny, nz=nz)\n",
    "    wfs[:, i] = molecular_orbital.reshape(-1)\n"
   ],
   "metadata": {
    "collapsed": false,
    "ExecuteTime": {
     "end_time": "2024-04-09T12:20:42.139275Z",
     "start_time": "2024-04-09T12:20:42.072348Z"
    }
   },
   "id": "931ae83d95a8aad8"
  },
  {
   "cell_type": "code",
   "execution_count": 38,
   "outputs": [
    {
     "name": "stdout",
     "output_type": "stream",
     "text": [
      "Requested 100 interpolation points\n",
      "Returned 100 interpolation points\n",
      "Rows to be used as interpolation points\n",
      "[243 244 245 246 254 255 256 324 325 326 334 335 342 343 344 345 346 352\n",
      " 353 354 355 356 363 364 365 366 374 375 376 423 424 425 433 434 435 436\n",
      " 443 444 445 446 453 454 455 456 463 464 465 466 474 475 524 525 532 533\n",
      " 534 535 536 544 545 546 553 554 555 556 563 564 565 566 567 575 623 624\n",
      " 625 633 634 635 636 643 644 645 646 647 653 654 655 656 657 663 664 665\n",
      " 666 673 674 675 744 745 746 754 755 756]\n"
     ]
    }
   ],
   "source": [
    "\"\"\" Interpolation point selection\n",
    "\"\"\"\n",
    "from isdf_prototypes.interpolation_points_via_qr import randomly_sample_product_matrix, interpolation_points_via_qrpivot\n",
    "\n",
    "# Create sub-sampled pair-product Z matrix\n",
    "n_interp = 100 # i.e. ~ sqrt(n_total)\n",
    "print(f'Requested {n_interp} interpolation points')\n",
    "\n",
    "z_sampled = randomly_sample_product_matrix(wfs, n_interp, random_seed=42)\n",
    "assert z_sampled.shape[0] == n_total, 'Number of grid points'\n",
    "\n",
    "# Update number of interpolation points\n",
    "n_interp = z_sampled.shape[1]\n",
    "print(f'Returned {n_interp} interpolation points')\n",
    "\n",
    "# Use QR decomposition with pivoting to find interpolation points\n",
    "pivot_indices = interpolation_points_via_qrpivot(z_sampled)\n",
    "print(\"Row indices to be used as interpolation points:\")\n",
    "print(pivot_indices)\n"
   ],
   "metadata": {
    "collapsed": false,
    "ExecuteTime": {
     "end_time": "2024-04-09T12:38:10.696806Z",
     "start_time": "2024-04-09T12:38:10.662647Z"
    }
   },
   "id": "d166abf3862661b1"
  },
  {
   "cell_type": "code",
   "execution_count": 39,
   "outputs": [],
   "source": [
    "# Create pair-product Z matrix on real-space grid and export to cube (will need to use my own routine)\n",
    "# Instead, generate the electron density and output this for checking the interpolation points against\n",
    "\n",
    "# TODO\n",
    "# Use pivot_indices as a mask for grid, to get the interpolation points\n",
    "# Plot interpolation points over the electron density\n",
    "# Plot interpolation points over |Psi_homo|^2"
   ],
   "metadata": {
    "collapsed": false,
    "ExecuteTime": {
     "end_time": "2024-04-09T12:43:13.438411Z",
     "start_time": "2024-04-09T12:43:13.419037Z"
    }
   },
   "id": "dfb24331c3356c35"
  },
  {
   "cell_type": "code",
   "execution_count": null,
   "outputs": [],
   "source": [],
   "metadata": {
    "collapsed": false
   },
   "id": "cbb7664de1453fe3"
  }
 ],
 "metadata": {
  "kernelspec": {
   "display_name": "Python 3",
   "language": "python",
   "name": "python3"
  },
  "language_info": {
   "codemirror_mode": {
    "name": "ipython",
    "version": 2
   },
   "file_extension": ".py",
   "mimetype": "text/x-python",
   "name": "python",
   "nbconvert_exporter": "python",
   "pygments_lexer": "ipython2",
   "version": "2.7.6"
  }
 },
 "nbformat": 4,
 "nbformat_minor": 5
}
