{
 "cells": [
  {
   "cell_type": "markdown",
   "source": [
    "# Visualise Cube Files"
   ],
   "metadata": {
    "collapsed": false
   },
   "id": "b6aece5cba42898b"
  },
  {
   "cell_type": "code",
   "execution_count": 4,
   "outputs": [],
   "source": [
    "from pathlib import Path\n",
    "\n",
    "import py3Dmol\n",
    "from rdkit import Chem\n",
    "\n",
    "def visualise_mo(view, file, mol=None):\n",
    "    \"\"\" Visualise cube file data with py3Dmol\n",
    "    \n",
    "    :param view: py3Dmol view instance\n",
    "    :param file: Cube file\n",
    "    :param mol: RDKIT molecule\n",
    "    \"\"\"\n",
    "    if not Path(file).is_file():\n",
    "        raise FileNotFoundError(f'File not found: {file}')\n",
    "    with open(file) as f:\n",
    "        cube_data = f.read()\n",
    "\n",
    "    view.addVolumetricData(cube_data, \"cube\", {'isoval': -0.04, 'color': \"red\", 'opacity': 0.75})\n",
    "    view.addVolumetricData(cube_data, \"cube\", {'isoval': 0.04, 'color': \"blue\", 'opacity': 0.75})\n",
    "    if mol:\n",
    "        view.addModel(Chem.MolToMolBlock(mol), 'mol')\n",
    "        view.setStyle({'stick':{}})\n",
    "    view.zoomTo()\n",
    "    view.update()\n",
    "\n"
   ],
   "metadata": {
    "collapsed": false,
    "ExecuteTime": {
     "end_time": "2024-04-04T12:19:38.633751Z",
     "start_time": "2024-04-04T12:19:38.599023Z"
    }
   },
   "id": "6ddf2c8de78fa26f"
  },
  {
   "cell_type": "code",
   "execution_count": null,
   "outputs": [],
   "source": [
    "# Benzene Plotting\n",
    "root = \"/Users/alexanderbuccheri/Codes/isdf_prototypes\"\n",
    "\n",
    "# Generate ball and stick data of atomic positions from SMILES\n",
    "mol = Chem.MolFromSmiles(\"c1ccccc1\")\n",
    "mol = Chem.AddHs(mol)\n",
    "\n",
    "# Isosurface plot\n",
    "view = py3Dmol.view(width=400,height=400)\n",
    "view.show()\n",
    "visualise_mo(view, root / Path(\"benzene_mo_1.cube\"), mol)"
   ],
   "metadata": {
    "collapsed": false
   },
   "id": "1a08e69a5f4316ea"
  },
  {
   "cell_type": "code",
   "execution_count": null,
   "outputs": [],
   "source": [],
   "metadata": {
    "collapsed": false
   },
   "id": "2d7537c95336f3af"
  }
 ],
 "metadata": {
  "kernelspec": {
   "display_name": "Python 3",
   "language": "python",
   "name": "python3"
  },
  "language_info": {
   "codemirror_mode": {
    "name": "ipython",
    "version": 2
   },
   "file_extension": ".py",
   "mimetype": "text/x-python",
   "name": "python",
   "nbconvert_exporter": "python",
   "pygments_lexer": "ipython2",
   "version": "2.7.6"
  }
 },
 "nbformat": 4,
 "nbformat_minor": 5
}
