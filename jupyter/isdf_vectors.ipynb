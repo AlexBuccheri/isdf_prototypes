{
 "cells": [
  {
   "cell_type": "markdown",
   "source": [
    "# Testing of ISDF Expansion W.r.t. Pair Product Matrix\n",
    "\n",
    "Testing Summary\n",
    "\n",
    "* Set benzene up again: Compute the grid and wave functions\n",
    "* Construct product basis matrix: L.H.S.\n",
    "* Construct the interpolation vectors\n",
    "* Implement Eta @ (Phi Psi), where Eta has shape(N_grid, N_interp) and PhiPsi has shape (N_iterp, Ne^2): R.H.S\n",
    "* Numerically compare to exact solution (Compare L.H.S. to R.H.S.)\n",
    "* Plot approximate against exact solution"
   ],
   "metadata": {
    "collapsed": false
   },
   "id": "2bc7f59256dd6b52"
  },
  {
   "cell_type": "code",
   "execution_count": 2,
   "outputs": [
    {
     "name": "stdout",
     "output_type": "stream",
     "text": [
      "The autoreload extension is already loaded. To reload it, use:\n",
      "  %reload_ext autoreload\n",
      "converged SCF energy = -229.930646528208\n"
     ]
    }
   ],
   "source": [
    "\"\"\"Build Benzene molecule with a minimal GTO basis, usign PYSCF\n",
    "\"\"\"\n",
    "%load_ext autoreload\n",
    "%autoreload 2\n",
    "\n",
    "from pyscf import gto, dft\n",
    "from rdkit import Chem\n",
    "\n",
    "bohr_to_ang =  0.529177249\n",
    "\n",
    "benzene_coordinates = \"\"\"\n",
    " C         -0.65914       -1.21034        3.98683\n",
    " C          0.73798       -1.21034        4.02059\n",
    " C         -1.35771       -0.00006        3.96990\n",
    " C          1.43653       -0.00004        4.03741\n",
    " C         -0.65915        1.21024        3.98685\n",
    " C          0.73797        1.21024        4.02061\n",
    " H         -1.20447       -2.15520        3.97369\n",
    " H          1.28332       -2.15517        4.03382\n",
    " H         -2.44839       -0.00006        3.94342\n",
    " H          2.52722       -0.00004        4.06369\n",
    " H         -1.20448        2.15509        3.97373\n",
    " H          1.28330        2.15508        4.03386\n",
    "\"\"\"\n",
    "\n",
    "# PYSCF Molecule\n",
    "mol = gto.Mole()\n",
    "mol.atom = benzene_coordinates\n",
    "mol.basis = 'def2-SVP'\n",
    "mol.build()\n",
    "\n",
    "# RDKIT molecule from SMILES data\n",
    "rdkit_mol = Chem.MolFromSmiles(\"c1ccccc1\")\n",
    "rdkit_mol = Chem.AddHs(rdkit_mol)\n",
    "# mol.atom_coords(unit='angstom'), symbols=[mol.atom_symbol(i) for i in range(12)]\n",
    "\n",
    "# Solve SCF for restricted KS-LDA\n",
    "mf = dft.RKS(mol)\n",
    "mf.kernel()\n",
    "# Occupied states for benzene, with this basis is 22\n",
    "n_occ = 22"
   ],
   "metadata": {
    "collapsed": false,
    "ExecuteTime": {
     "end_time": "2024-04-09T15:49:58.355521Z",
     "start_time": "2024-04-09T15:49:51.176022Z"
    }
   },
   "id": "bd8ecc8e6ebd1d46"
  },
  {
   "cell_type": "code",
   "execution_count": 3,
   "outputs": [],
   "source": [
    "\"\"\"Define real-space grid\n",
    "\"\"\"\n",
    "from pathlib import Path\n",
    "\n",
    "import numpy as np\n",
    "from pyscf.tools import cubegen\n",
    "\n",
    "from isdf_prototypes.visualise import write_xyz\n",
    "\n",
    "# Root for outputs\n",
    "output_root = Path('../outputs/isdf_product_expansion')\n",
    "\n",
    "# Grid/cube settings\n",
    "nx, ny, nz = 10, 10, 10\n",
    "n_total = np.prod([nx, ny, nz])\n",
    "\n",
    "# Generate the real-space grid\n",
    "cube_grid = cubegen.Cube(mol, nx, ny, nz)\n",
    "grid_points = cube_grid.get_coords()\n",
    "assert grid_points.shape == (n_total, 3)\n",
    "\n",
    "# Output full grid and clusters to .xyz with dummy species\n",
    "# grid_xyz = write_xyz(['Sr']*n_total, grid_points * bohr_to_ang)\n",
    "# with open(output_root / 'grid.xyz', \"w\") as fid:\n",
    "#     fid.write(grid_xyz)"
   ],
   "metadata": {
    "collapsed": false,
    "ExecuteTime": {
     "end_time": "2024-04-09T15:50:17.231482Z",
     "start_time": "2024-04-09T15:50:17.211077Z"
    }
   },
   "id": "71aba3743266ebc2"
  },
  {
   "cell_type": "code",
   "execution_count": 5,
   "outputs": [],
   "source": [
    "\"\"\"Occupied Wavefunctions\n",
    "\"\"\"\n",
    "# Generate MOs on real-space grid\n",
    "wfs = np.empty(shape=(n_total, n_occ))\n",
    "for i in range(n_occ):\n",
    "    cube_file = output_root / f'benzene_mo{i}.cube'\n",
    "    # pyscf expects a string for fname\n",
    "    molecular_orbital = cubegen.orbital(mol, cube_file.as_posix(), mf.mo_coeff[:, i], nx=nx, ny=ny, nz=nz)\n",
    "    wfs[:, i] = molecular_orbital.reshape(-1)\n"
   ],
   "metadata": {
    "collapsed": false,
    "ExecuteTime": {
     "end_time": "2024-04-09T15:50:43.418306Z",
     "start_time": "2024-04-09T15:50:43.308445Z"
    }
   },
   "id": "8e3c0c6d07761116"
  },
  {
   "cell_type": "code",
   "execution_count": 6,
   "outputs": [],
   "source": [
    "\"\"\" L.H.S. Full product basis matrix\n",
    "\"\"\"\n",
    "from isdf_prototypes.math_ops import face_splitting_product\n",
    "\n",
    "\n",
    "# Construct product basis matrix\n",
    "z = face_splitting_product(wfs)\n",
    "assert z.shape == (n_total, n_occ**2)\n"
   ],
   "metadata": {
    "collapsed": false,
    "ExecuteTime": {
     "end_time": "2024-04-09T15:53:04.743737Z",
     "start_time": "2024-04-09T15:53:04.694235Z"
    }
   },
   "id": "5e540b107b0a7032"
  },
  {
   "cell_type": "code",
   "execution_count": 21,
   "outputs": [],
   "source": [
    "from typing import Tuple\n",
    "\n",
    "\"\"\" R.H.S.: Interpolation points and vectors, and approximate product matrix\n",
    "\"\"\"\n",
    "from isdf_prototypes.interpolation_points_via_qr import randomly_sample_product_matrix, interpolation_points_via_qrpivot\n",
    "from isdf_prototypes.isdf_vectors import construct_interpolation_vectors_matrix\n",
    "\n",
    "\n",
    "def compute_approximate_product_matrix(wfs, n_interp) -> Tuple[np.ndarray, int]:\n",
    "    \"\"\" Compute an approximate product matrix using ISDF interpolation vectors\n",
    "     \n",
    "     z_{\\text{isdf}} = \\sum_\\mu^{N_\\mu} \\zeta_{\\mu}(\\mathbf{r}) \\phi_i(\\mathbf{r}_\\mu) \\phi_j(\\mathbf{r}_\\mu)\n",
    "\n",
    "    which can be represented as the matrix equation:\n",
    "    \n",
    "    Z_{\\text{isdf}} = \\Zeta (Phi \\bullet \\Psi), \n",
    "    \n",
    "    where (Phi \\bullet \\Psi) is the face-splitting product.\n",
    "    \"\"\"\n",
    "    # Avoid using global data\n",
    "    total_grid_size = wfs.shape[0]\n",
    "    n_products = wfs.shape[1]**2\n",
    "\n",
    "    # Construct the interpolation points\n",
    "    z_sampled = randomly_sample_product_matrix(wfs, n_interp=n_interp, random_seed=42)\n",
    "    assert z_sampled.shape[0] == total_grid_size\n",
    "    \n",
    "    # Update number of interpolation points\n",
    "    n_interp = z_sampled.shape[1]\n",
    "    \n",
    "    indices = interpolation_points_via_qrpivot(z_sampled)\n",
    "    assert len(indices) == n_interp\n",
    "    \n",
    "    # Construct the interpolation points vectors\n",
    "    zeta = construct_interpolation_vectors_matrix(wfs, indices)\n",
    "    assert zeta.shape == (total_grid_size, n_interp)\n",
    "    \n",
    "    # Product basis defined on the interpolation grid\n",
    "    z_interp = face_splitting_product(wfs[indices, :])\n",
    "    assert z_interp.shape == (n_interp, n_products)\n",
    "    \n",
    "    # ISDF approximation to the product basis\n",
    "    z_isdf = zeta @ z_interp\n",
    "    assert z_isdf.shape == (total_grid_size, n_products)\n",
    "    \n",
    "    return z_isdf, n_interp\n",
    "    \n",
    "\n",
    "def error_l2(f1, f2, grid) -> dict:\n",
    "    \"\"\"  Error using L2 metric.\n",
    "    \n",
    "    :param f1: \n",
    "    :param f2: \n",
    "    :param grid: \n",
    "    :return: \n",
    "    \"\"\"\n",
    "    dV = grid.get_volume_element()\n",
    "    assert dV > 0.0, \"Must have a finite volume element\"\n",
    "    diff = f1 - f2\n",
    "    # Integrate over grid points\n",
    "    err_ij = np.sum(diff * diff, axis=0) * dV\n",
    "    err_ij = np.square(err_ij)\n",
    "    err = {'min': np.amin(err_ij), 'max': np.amax(err_ij), 'mean': np.mean(err_ij)}\n",
    "\n",
    "    return err\n",
    "    "
   ],
   "metadata": {
    "collapsed": false,
    "ExecuteTime": {
     "end_time": "2024-04-09T17:26:29.806051Z",
     "start_time": "2024-04-09T17:26:29.724342Z"
    }
   },
   "id": "20aa264334ecc818"
  },
  {
   "cell_type": "code",
   "execution_count": 23,
   "outputs": [
    {
     "name": "stdout",
     "output_type": "stream",
     "text": [
      "9 {'min': 2.1190150945886306e-16, 'max': 3.3739849340340795e-11, 'mean': 3.579738461276301e-12}\n",
      "25 {'min': 3.663177358038371e-18, 'max': 1.3619696057732124e-11, 'mean': 8.688034912593237e-13}\n",
      "49 {'min': 9.497317134531506e-20, 'max': 3.6495170558354045e-12, 'mean': 8.248621375322717e-14}\n",
      "81 {'min': 1.3054774330992181e-22, 'max': 6.058266954241666e-15, 'mean': 2.4328414635955734e-17}\n",
      "100 {'min': 2.2198566957729384e-23, 'max': 7.338210849610755e-18, 'mean': 3.25109166923599e-20}\n"
     ]
    }
   ],
   "source": [
    "n_interpolation_vectors = [10, 25, 50, 75, 100]\n",
    "\n",
    "for n in n_interpolation_vectors:\n",
    "    z_isdf, n_interp = compute_approximate_product_matrix(wfs, n)\n",
    "    print(n_interp, error_l2(z, z_isdf, cube_grid))\n"
   ],
   "metadata": {
    "collapsed": false,
    "ExecuteTime": {
     "end_time": "2024-04-09T17:27:33.576586Z",
     "start_time": "2024-04-09T17:27:31.312274Z"
    }
   },
   "id": "d333706deaccba5d"
  },
  {
   "cell_type": "code",
   "execution_count": 19,
   "outputs": [],
   "source": [
    "# Plot a small selection pair product states using PYSCF's Cube functionality\n",
    "states = [0, n_occ**2 - 1]\n",
    "\n",
    "for ij in states:\n",
    "    # Exact product state\n",
    "    fname = output_root / f'z_{ij}'\n",
    "    cube_grid.write(field=z[:, ij].reshape(nx, ny, nz) , fname=fname.as_posix())\n",
    "    # Approximate product state\n",
    "    fname = output_root / f'zisdf_{ij}'\n",
    "    cube_grid.write(field=z_isdf[:, ij].reshape(nx, ny, nz) , fname=fname.as_posix())\n"
   ],
   "metadata": {
    "collapsed": false,
    "ExecuteTime": {
     "end_time": "2024-04-09T16:43:43.334234Z",
     "start_time": "2024-04-09T16:43:43.308847Z"
    }
   },
   "id": "1c37583e1b2e40a2"
  },
  {
   "cell_type": "markdown",
   "source": [
    "I think these results converge so quickly because one has a small molecule in a box, with no PBCs, and most of the charge centred around the molecule.\n"
   ],
   "metadata": {
    "collapsed": false
   },
   "id": "d430a5fe50338152"
  },
  {
   "cell_type": "code",
   "execution_count": null,
   "outputs": [],
   "source": [],
   "metadata": {
    "collapsed": false
   },
   "id": "3fe634b51b48546c"
  }
 ],
 "metadata": {
  "kernelspec": {
   "display_name": "Python 3",
   "language": "python",
   "name": "python3"
  },
  "language_info": {
   "codemirror_mode": {
    "name": "ipython",
    "version": 2
   },
   "file_extension": ".py",
   "mimetype": "text/x-python",
   "name": "python",
   "nbconvert_exporter": "python",
   "pygments_lexer": "ipython2",
   "version": "2.7.6"
  }
 },
 "nbformat": 4,
 "nbformat_minor": 5
}
